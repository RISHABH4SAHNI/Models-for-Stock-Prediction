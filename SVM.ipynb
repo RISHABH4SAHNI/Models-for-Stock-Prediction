{
 "cells": [
  {
   "cell_type": "code",
   "execution_count": 1,
   "id": "64a9e118",
   "metadata": {},
   "outputs": [
    {
     "name": "stdout",
     "output_type": "stream",
     "text": [
      "[*********************100%***********************]  1 of 1 completed\n"
     ]
    },
    {
     "data": {
      "image/png": "[encoded data removed]",
      "text/plain": [
       "<Figure size 576x432 with 2 Axes>"
      ]
     },
     "metadata": {
      "needs_background": "light"
     },
     "output_type": "display_data"
    },
    {
     "name": "stdout",
     "output_type": "stream",
     "text": [
      "              precision    recall  f1-score   support\n",
      "\n",
      "           0       0.99      0.97      0.98       120\n",
      "           1       0.98      0.99      0.98       124\n",
      "\n",
      "    accuracy                           0.98       244\n",
      "   macro avg       0.98      0.98      0.98       244\n",
      "weighted avg       0.98      0.98      0.98       244\n",
      "\n"
     ]
    }
   ],
   "source": [
    "import yfinance as yf\n",
    "from sklearn import svm\n",
    "from sklearn.preprocessing import MinMaxScaler\n",
    "from sklearn.metrics import classification_report\n",
    "from sklearn.model_selection import GridSearchCV\n",
    "import numpy as np\n",
    "import pandas as pd\n",
    "\n",
    "# Function to create sliding window of data\n",
    "def create_sliding_window(data, window_size):\n",
    "    X = []\n",
    "    for i in range(len(data) - window_size - 1):\n",
    "        X.append(data[i: (i + window_size)])\n",
    "    return np.array(X)\n",
    "\n",
    "# Download historical data\n",
    "data = yf.download('AAPL', '2010-01-01', '2023-05-30')\n",
    "\n",
    "# Calculate the daily returns\n",
    "data['returns'] = data['Close'].pct_change()\n",
    "\n",
    "# Drop missing values\n",
    "data = data.dropna()\n",
    "\n",
    "# Add a column 'direction' which is our target variable. 1 for positive returns, 0 for negative\n",
    "data = data.copy()\n",
    "data.loc[:, 'direction'] = np.where(data['returns'].shift(-1) > 0, 1, 0)\n",
    "\n",
    "# Prepare data for SVM\n",
    "X = data['returns'].values  # features\n",
    "y = data['direction'].values  # target\n",
    "\n",
    "# Create sliding window of past 5 days\n",
    "window_size = 5\n",
    "X = create_sliding_window(X, window_size)\n",
    "\n",
    "# The target variable needs to be shifted accordingly\n",
    "y = y[:-window_size-1]\n",
    "\n",
    "# Scale the features\n",
    "scaler = MinMaxScaler(feature_range=(-1, 1))\n",
    "X = scaler.fit_transform(X)\n",
    "\n",
    "# Create a mask for the data that falls before your cutoff date\n",
    "cutoff_date = pd.to_datetime('2022-05-30')\n",
    "mask = data.index[:-window_size-1] < cutoff_date\n",
    "\n",
    "# Split the data into training and test sets\n",
    "X_train = X[mask]\n",
    "y_train = y[mask]\n",
    "X_test = X[~mask]\n",
    "y_test = y[~mask]\n",
    "\n",
    "# Train the SVM classifier with GridSearchCV for basic parameter tuning\n",
    "parameters = {'kernel':('linear', 'rbf'), 'C':[1, 10]}\n",
    "clf = GridSearchCV(svm.SVC(probability=True), parameters)\n",
    "clf.fit(X_train, y_train)\n",
    "\n",
    "from sklearn.metrics import confusion_matrix\n",
    "import seaborn as sns\n",
    "import matplotlib.pyplot as plt\n",
    "\n",
    "# Make predictions\n",
    "y_pred = clf.predict(X_test)\n",
    "\n",
    "# Print a confusion matrix\n",
    "cm = confusion_matrix(y_test, y_pred)\n",
    "plt.figure(figsize=(8, 6))\n",
    "sns.heatmap(cm, annot=True, fmt='d', cmap='Blues')\n",
    "plt.title('Confusion Matrix')\n",
    "plt.xlabel('Predicted Label')\n",
    "plt.ylabel('True Label')\n",
    "plt.show()\n",
    "\n",
    "# Print a classification report\n",
    "print(classification_report(y_test, y_pred))\n",
    "\n"
   ]
  },
  {
   "cell_type": "code",
   "execution_count": 2,
   "id": "03447edf",
   "metadata": {},
   "outputs": [
    {
     "ename": "ValueError",
     "evalue": "Item wrong length 3366 instead of 3372.",
     "output_type": "error",
     "traceback": [
      "\u001b[1;31m---------------------------------------------------------------------------\u001b[0m",
      "\u001b[1;31mValueError\u001b[0m                                Traceback (most recent call last)",
      "Input \u001b[1;32mIn [2]\u001b[0m, in \u001b[0;36m<cell line: 2>\u001b[1;34m()\u001b[0m\n\u001b[0;32m      1\u001b[0m \u001b[38;5;66;03m# Create a DataFrame for test data\u001b[39;00m\n\u001b[1;32m----> 2\u001b[0m test_data \u001b[38;5;241m=\u001b[39m \u001b[43mdata\u001b[49m\u001b[43m[\u001b[49m\u001b[38;5;241;43m~\u001b[39;49m\u001b[43mmask\u001b[49m\u001b[43m]\u001b[49m\u001b[38;5;241m.\u001b[39miloc[window_size:\u001b[38;5;241m-\u001b[39mwindow_size\u001b[38;5;241m-\u001b[39m\u001b[38;5;241m1\u001b[39m]\n\u001b[0;32m      4\u001b[0m \u001b[38;5;66;03m# Calculate probabilities for test data only\u001b[39;00m\n\u001b[0;32m      5\u001b[0m test_features \u001b[38;5;241m=\u001b[39m create_sliding_window(test_data[\u001b[38;5;124m'\u001b[39m\u001b[38;5;124mreturns\u001b[39m\u001b[38;5;124m'\u001b[39m]\u001b[38;5;241m.\u001b[39mvalues, window_size)\n",
      "File \u001b[1;32m~\\anaconda3\\lib\\site-packages\\pandas\\core\\frame.py:3496\u001b[0m, in \u001b[0;36mDataFrame.__getitem__\u001b[1;34m(self, key)\u001b[0m\n\u001b[0;32m   3494\u001b[0m \u001b[38;5;66;03m# Do we have a (boolean) 1d indexer?\u001b[39;00m\n\u001b[0;32m   3495\u001b[0m \u001b[38;5;28;01mif\u001b[39;00m com\u001b[38;5;241m.\u001b[39mis_bool_indexer(key):\n\u001b[1;32m-> 3496\u001b[0m     \u001b[38;5;28;01mreturn\u001b[39;00m \u001b[38;5;28;43mself\u001b[39;49m\u001b[38;5;241;43m.\u001b[39;49m\u001b[43m_getitem_bool_array\u001b[49m\u001b[43m(\u001b[49m\u001b[43mkey\u001b[49m\u001b[43m)\u001b[49m\n\u001b[0;32m   3498\u001b[0m \u001b[38;5;66;03m# We are left with two options: a single key, and a collection of keys,\u001b[39;00m\n\u001b[0;32m   3499\u001b[0m \u001b[38;5;66;03m# We interpret tuples as collections only for non-MultiIndex\u001b[39;00m\n\u001b[0;32m   3500\u001b[0m is_single_key \u001b[38;5;241m=\u001b[39m \u001b[38;5;28misinstance\u001b[39m(key, \u001b[38;5;28mtuple\u001b[39m) \u001b[38;5;129;01mor\u001b[39;00m \u001b[38;5;129;01mnot\u001b[39;00m is_list_like(key)\n",
      "File \u001b[1;32m~\\anaconda3\\lib\\site-packages\\pandas\\core\\frame.py:3543\u001b[0m, in \u001b[0;36mDataFrame._getitem_bool_array\u001b[1;34m(self, key)\u001b[0m\n\u001b[0;32m   3537\u001b[0m     warnings\u001b[38;5;241m.\u001b[39mwarn(\n\u001b[0;32m   3538\u001b[0m         \u001b[38;5;124m\"\u001b[39m\u001b[38;5;124mBoolean Series key will be reindexed to match DataFrame index.\u001b[39m\u001b[38;5;124m\"\u001b[39m,\n\u001b[0;32m   3539\u001b[0m         \u001b[38;5;167;01mUserWarning\u001b[39;00m,\n\u001b[0;32m   3540\u001b[0m         stacklevel\u001b[38;5;241m=\u001b[39mfind_stack_level(),\n\u001b[0;32m   3541\u001b[0m     )\n\u001b[0;32m   3542\u001b[0m \u001b[38;5;28;01melif\u001b[39;00m \u001b[38;5;28mlen\u001b[39m(key) \u001b[38;5;241m!=\u001b[39m \u001b[38;5;28mlen\u001b[39m(\u001b[38;5;28mself\u001b[39m\u001b[38;5;241m.\u001b[39mindex):\n\u001b[1;32m-> 3543\u001b[0m     \u001b[38;5;28;01mraise\u001b[39;00m \u001b[38;5;167;01mValueError\u001b[39;00m(\n\u001b[0;32m   3544\u001b[0m         \u001b[38;5;124mf\u001b[39m\u001b[38;5;124m\"\u001b[39m\u001b[38;5;124mItem wrong length \u001b[39m\u001b[38;5;132;01m{\u001b[39;00m\u001b[38;5;28mlen\u001b[39m(key)\u001b[38;5;132;01m}\u001b[39;00m\u001b[38;5;124m instead of \u001b[39m\u001b[38;5;132;01m{\u001b[39;00m\u001b[38;5;28mlen\u001b[39m(\u001b[38;5;28mself\u001b[39m\u001b[38;5;241m.\u001b[39mindex)\u001b[38;5;132;01m}\u001b[39;00m\u001b[38;5;124m.\u001b[39m\u001b[38;5;124m\"\u001b[39m\n\u001b[0;32m   3545\u001b[0m     )\n\u001b[0;32m   3547\u001b[0m \u001b[38;5;66;03m# check_bool_indexer will throw exception if Series key cannot\u001b[39;00m\n\u001b[0;32m   3548\u001b[0m \u001b[38;5;66;03m# be reindexed to match DataFrame rows\u001b[39;00m\n\u001b[0;32m   3549\u001b[0m key \u001b[38;5;241m=\u001b[39m check_bool_indexer(\u001b[38;5;28mself\u001b[39m\u001b[38;5;241m.\u001b[39mindex, key)\n",
      "\u001b[1;31mValueError\u001b[0m: Item wrong length 3366 instead of 3372."
     ]
    }
   ],
   "source": [
    "# Create a DataFrame for test data\n",
    "test_data = data[~mask].iloc[window_size:-window_size-1]\n",
    "\n",
    "# Calculate probabilities for test data only\n",
    "test_features = create_sliding_window(test_data['returns'].values, window_size)\n",
    "test_features_scaled = scaler.transform(test_features)\n",
    "probs = clf.predict_proba(test_features_scaled)[:, 1]\n",
    "\n",
    "# Assign the probabilities to 'predicted_probability' column in the test data\n",
    "test_data['predicted_probability'] = probs\n",
    "\n",
    "# Backtest\n",
    "initial_balance = 10000  \n",
    "balance = initial_balance\n",
    "num_shares = 0\n",
    "\n",
    "# Loop through the test data\n",
    "for _, row in test_data.iterrows():\n",
    "    # invest a fraction of balance based on confidence of prediction\n",
    "    investment_fraction = row['predicted_probability']\n",
    "    investment = balance * investment_fraction\n",
    "    num_shares += investment / row['Close']\n",
    "    balance -= investment\n",
    "\n",
    "# add value of any remaining shares to balance\n",
    "balance += num_shares * test_data['Close'].iloc[-1]\n",
    "\n",
    "print('Final balance:', balance)\n"
   ]
  }
 ],
 "metadata": {
  "kernelspec": {
   "display_name": "Python 3 (ipykernel)",
   "language": "python",
   "name": "python3"
  },
  "language_info": {
   "codemirror_mode": {
    "name": "ipython",
    "version": 3
   },
   "file_extension": ".py",
   "mimetype": "text/x-python",
   "name": "python",
   "nbconvert_exporter": "python",
   "pygments_lexer": "ipython3",
   "version": "3.9.12"
  }
 },
 "nbformat": 4,
 "nbformat_minor": 5
}
