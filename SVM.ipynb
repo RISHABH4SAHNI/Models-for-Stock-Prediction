{
 "cells": [
  {
   "cell_type": "code",
   "execution_count": 1,
   "id": "64a9e118",
   "metadata": {},
   "outputs": [
    {
     "name": "stdout",
     "output_type": "stream",
     "text": [
      "[*********************100%***********************]  1 of 1 completed\n"
     ]
    },
    {
     "data": {
      "image/png": "[encoded data removed]",
      "text/plain": [
       "<Figure size 576x432 with 2 Axes>"
      ]
     },
     "metadata": {
      "needs_background": "light"
     },
     "output_type": "display_data"
    },
    {
     "data": {
      "image/png": "[encoded data removed]",
      "text/plain": [
       "<Figure size 432x288 with 1 Axes>"
      ]
     },
     "metadata": {
      "needs_background": "light"
     },
     "output_type": "display_data"
    },
    {
     "name": "stdout",
     "output_type": "stream",
     "text": [
      "              precision    recall  f1-score   support\n",
      "\n",
      "           0       0.00      0.00      0.00        44\n",
      "           1       0.56      1.00      0.72        57\n",
      "\n",
      "    accuracy                           0.56       101\n",
      "   macro avg       0.28      0.50      0.36       101\n",
      "weighted avg       0.32      0.56      0.41       101\n",
      "\n"
     ]
    },
    {
     "name": "stderr",
     "output_type": "stream",
     "text": [
      "C:\\Users\\achin\\anaconda3\\lib\\site-packages\\sklearn\\metrics\\_classification.py:1318: UndefinedMetricWarning: Precision and F-score are ill-defined and being set to 0.0 in labels with no predicted samples. Use `zero_division` parameter to control this behavior.\n",
      "  _warn_prf(average, modifier, msg_start, len(result))\n",
      "C:\\Users\\achin\\anaconda3\\lib\\site-packages\\sklearn\\metrics\\_classification.py:1318: UndefinedMetricWarning: Precision and F-score are ill-defined and being set to 0.0 in labels with no predicted samples. Use `zero_division` parameter to control this behavior.\n",
      "  _warn_prf(average, modifier, msg_start, len(result))\n",
      "C:\\Users\\achin\\anaconda3\\lib\\site-packages\\sklearn\\metrics\\_classification.py:1318: UndefinedMetricWarning: Precision and F-score are ill-defined and being set to 0.0 in labels with no predicted samples. Use `zero_division` parameter to control this behavior.\n",
      "  _warn_prf(average, modifier, msg_start, len(result))\n"
     ]
    }
   ],
   "source": [
    "import yfinance as yf\n",
    "from sklearn import svm\n",
    "from sklearn.preprocessing import MinMaxScaler\n",
    "from sklearn.metrics import classification_report\n",
    "from sklearn.model_selection import GridSearchCV\n",
    "import numpy as np\n",
    "import pandas as pd\n",
    "\n",
    "def create_sliding_window(data, window_size):\n",
    "    X = []\n",
    "    for i in range(len(data) - window_size+1):\n",
    "        X.append(data[i: (i + window_size)])\n",
    "    return np.array(X)\n",
    "\n",
    "# Download historical data\n",
    "data = yf.download('AAPL', '2010-01-01', '2023-05-30')\n",
    "# Calculate the daily returns\n",
    "data['returns'] = data['Close'].pct_change()\n",
    "\n",
    "# Drop missing values\n",
    "data = data.dropna()\n",
    "\n",
    "# Add a column 'direction' which is our target variable. 1 for positive returns, 0 for negative\n",
    "data = data.copy()\n",
    "data.loc[:, 'direction'] = np.where(data['returns'].shift(-1) > 0, 1, 0)\n",
    "data.to_csv(\"After direction.csv\")\n",
    "# Prepare data for SVM\n",
    "x = data['returns'].values  # features\n",
    "y = data['direction'].values  # target\n",
    "\n",
    "# Create sliding window of past 30 days\n",
    "window_size = 30\n",
    "X = create_sliding_window(x, window_size)\n",
    "\n",
    "# The target variable needs to be shifted accordingly\n",
    "y = y[window_size-1:]\n",
    "\n",
    "# Scale the features\n",
    "scaler = MinMaxScaler(feature_range=(-1, 1))\n",
    "X = scaler.fit_transform(X)\n",
    "\n",
    "# Create a mask for the data that falls before your cutoff date\n",
    "\n",
    "# Create a mask for the data that falls before your cutoff date\n",
    "cutoff_date = pd.to_datetime('2023-01-01')\n",
    "# Create the index for X based on the last date in each window\n",
    "X_dates = data.index[window_size - 1:]\n",
    "\n",
    "# Now create masks for X and y based on these dates\n",
    "mask_X = X_dates < cutoff_date\n",
    "\n",
    "# Since y is already shifted, you can use the same mask for it\n",
    "mask_y = mask_X\n",
    "\n",
    "# Now split the data into training and test sets using the masks\n",
    "X_train = X[mask_X]\n",
    "y_train = y[mask_y]\n",
    "X_test = X[~mask_X]\n",
    "y_test = y[~mask_y]\n",
    "\n",
    "\n",
    "\n",
    "# Train the SVM classifier with GridSearchCV for basic parameter tuning\n",
    "parameters = {'kernel':('linear', 'rbf'), 'C':[1, 10]}\n",
    "clf = GridSearchCV(svm.SVC(probability=True), parameters)\n",
    "clf.fit(X_train, y_train)\n",
    "\n",
    "from sklearn.metrics import confusion_matrix\n",
    "import seaborn as sns\n",
    "import matplotlib.pyplot as plt\n",
    "\n",
    "# Make predictions\n",
    "y_pred = clf.predict(X_test)\n",
    "\n",
    "# Print a confusion matrix\n",
    "cm = confusion_matrix(y_test, y_pred)\n",
    "plt.figure(figsize=(8, 6))\n",
    "sns.heatmap(cm, annot=True, fmt='d', cmap='Blues')\n",
    "plt.title('Confusion Matrix')\n",
    "plt.xlabel('Predicted Label')\n",
    "plt.ylabel('True Label')\n",
    "plt.show()\n",
    "\n",
    "# Get predicted probabilities\n",
    "y_pred_prob = clf.predict_proba(X_test)\n",
    "\n",
    "# Extract probabilities of the positive class\n",
    "prob_positive = y_pred_prob[:, 1]\n",
    "\n",
    "# Create a histogram\n",
    "plt.hist(prob_positive, bins=10, edgecolor='k')\n",
    "plt.xlabel('Predicted Probability of Positive Class')\n",
    "plt.ylabel('Frequency')\n",
    "plt.title('Histogram of Predicted Probabilities')\n",
    "plt.show()\n",
    "\n",
    "\n",
    "# Print a classification report\n",
    "print(classification_report(y_test, y_pred))"
   ]
  }
 ],
 "metadata": {
  "kernelspec": {
   "display_name": "Python 3 (ipykernel)",
   "language": "python",
   "name": "python3"
  },
  "language_info": {
   "codemirror_mode": {
    "name": "ipython",
    "version": 3
   },
   "file_extension": ".py",
   "mimetype": "text/x-python",
   "name": "python",
   "nbconvert_exporter": "python",
   "pygments_lexer": "ipython3",
   "version": "3.9.12"
  }
 },
 "nbformat": 4,
 "nbformat_minor": 5
}
